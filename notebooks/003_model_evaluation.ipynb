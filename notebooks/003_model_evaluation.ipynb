{
 "cells": [
  {
   "cell_type": "code",
   "execution_count": null,
   "metadata": {},
   "outputs": [],
   "source": [
    "import os,sys\n",
    "from sklearn.metrics import r2_score\n",
    "sys.path.append(os.path.abspath(os.path.join('..', 'utils'))\n",
    "from db_postgres import *"
   ]
  },
  {
   "cell_type": "code",
   "execution_count": 3,
   "metadata": {},
   "outputs": [
    {
     "name": "stderr",
     "output_type": "stream",
     "text": [
      "2024-11-12 17:03:56,903 - INFO - Connected to PostgreSQL\n"
     ]
    },
    {
     "name": "stderr",
     "output_type": "stream",
     "text": [
      "2024-11-12 17:03:56,916 - INFO - Data fetched successfully\n"
     ]
    },
    {
     "data": {
      "text/html": [
       "<div>\n",
       "<style scoped>\n",
       "    .dataframe tbody tr th:only-of-type {\n",
       "        vertical-align: middle;\n",
       "    }\n",
       "\n",
       "    .dataframe tbody tr th {\n",
       "        vertical-align: top;\n",
       "    }\n",
       "\n",
       "    .dataframe thead th {\n",
       "        text-align: right;\n",
       "    }\n",
       "</style>\n",
       "<table border=\"1\" class=\"dataframe\">\n",
       "  <thead>\n",
       "    <tr style=\"text-align: right;\">\n",
       "      <th></th>\n",
       "      <th>id</th>\n",
       "      <th>gdp_per_capita</th>\n",
       "      <th>life_expectancy</th>\n",
       "      <th>freedom</th>\n",
       "      <th>perceptions_corruption</th>\n",
       "      <th>continent_numeric</th>\n",
       "      <th>happiness_prediction</th>\n",
       "      <th>happiness_score</th>\n",
       "    </tr>\n",
       "  </thead>\n",
       "  <tbody>\n",
       "    <tr>\n",
       "      <th>0</th>\n",
       "      <td>1</td>\n",
       "      <td>1.233748</td>\n",
       "      <td>0.706156</td>\n",
       "      <td>0.550027</td>\n",
       "      <td>0.070984</td>\n",
       "      <td>1</td>\n",
       "      <td>6.260365</td>\n",
       "      <td>6.452</td>\n",
       "    </tr>\n",
       "    <tr>\n",
       "      <th>1</th>\n",
       "      <td>2</td>\n",
       "      <td>0.474000</td>\n",
       "      <td>0.598000</td>\n",
       "      <td>0.292000</td>\n",
       "      <td>0.034000</td>\n",
       "      <td>4</td>\n",
       "      <td>4.980093</td>\n",
       "      <td>5.199</td>\n",
       "    </tr>\n",
       "    <tr>\n",
       "      <th>2</th>\n",
       "      <td>3</td>\n",
       "      <td>1.217560</td>\n",
       "      <td>0.719217</td>\n",
       "      <td>0.579392</td>\n",
       "      <td>0.178062</td>\n",
       "      <td>1</td>\n",
       "      <td>6.182717</td>\n",
       "      <td>6.454</td>\n",
       "    </tr>\n",
       "    <tr>\n",
       "      <th>3</th>\n",
       "      <td>4</td>\n",
       "      <td>1.268000</td>\n",
       "      <td>0.876000</td>\n",
       "      <td>0.669000</td>\n",
       "      <td>0.389000</td>\n",
       "      <td>3</td>\n",
       "      <td>6.183863</td>\n",
       "      <td>7.324</td>\n",
       "    </tr>\n",
       "    <tr>\n",
       "      <th>4</th>\n",
       "      <td>5</td>\n",
       "      <td>1.529000</td>\n",
       "      <td>1.008000</td>\n",
       "      <td>0.631000</td>\n",
       "      <td>0.457000</td>\n",
       "      <td>4</td>\n",
       "      <td>6.491257</td>\n",
       "      <td>6.343</td>\n",
       "    </tr>\n",
       "  </tbody>\n",
       "</table>\n",
       "</div>"
      ],
      "text/plain": [
       "   id  gdp_per_capita  life_expectancy   freedom  perceptions_corruption  \\\n",
       "0   1        1.233748         0.706156  0.550027                0.070984   \n",
       "1   2        0.474000         0.598000  0.292000                0.034000   \n",
       "2   3        1.217560         0.719217  0.579392                0.178062   \n",
       "3   4        1.268000         0.876000  0.669000                0.389000   \n",
       "4   5        1.529000         1.008000  0.631000                0.457000   \n",
       "\n",
       "   continent_numeric  happiness_prediction  happiness_score  \n",
       "0                  1              6.260365            6.452  \n",
       "1                  4              4.980093            5.199  \n",
       "2                  1              6.182717            6.454  \n",
       "3                  3              6.183863            7.324  \n",
       "4                  4              6.491257            6.343  "
      ]
     },
     "execution_count": 3,
     "metadata": {},
     "output_type": "execute_result"
    }
   ],
   "source": [
    "df_all_data = get_all_data()\n",
    "df_all_data.head()\n"
   ]
  },
  {
   "cell_type": "code",
   "execution_count": null,
   "metadata": {},
   "outputs": [],
   "source": [
    "# Extract the true and predicted values\n",
    "y_true = df_all_data['happiness_score']\n",
    "y_pred = df_all_data['happiness_prediction']\n",
    "\n",
    "# Calculate the R^2 score\n",
    "r2 = r2_score(y_true, y_pred)\n",
    "print(f\"The coefficient of determination (R²) is: {r2}\")"
   ]
  }
 ],
 "metadata": {
  "kernelspec": {
   "display_name": "workshop-003-KnXZ99Lx-py3.12",
   "language": "python",
   "name": "python3"
  },
  "language_info": {
   "codemirror_mode": {
    "name": "ipython",
    "version": 3
   },
   "file_extension": ".py",
   "mimetype": "text/x-python",
   "name": "python",
   "nbconvert_exporter": "python",
   "pygments_lexer": "ipython3",
   "version": "3.12.6"
  }
 },
 "nbformat": 4,
 "nbformat_minor": 2
}
